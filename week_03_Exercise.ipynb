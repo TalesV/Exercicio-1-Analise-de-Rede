{
  "nbformat": 4,
  "nbformat_minor": 0,
  "metadata": {
    "colab": {
      "name": "week_03_Exercise.ipynb",
      "provenance": [],
      "collapsed_sections": [
        "0vUTEVI2SSAQ",
        "QPVskC76LUtF",
        "ZT5mLS7-Lsb2",
        "4-bIhQwpMVs3",
        "S4Ga_yyYNBBo",
        "hct-5tQwNg5_",
        "--K9oj5YNrjz",
        "cER1jb6SN8NF",
        "RN4CfOSqOK_1",
        "SKKotfslOluz",
        "N92A04bZP6Uu",
        "hzp00QnjRgxU"
      ],
      "include_colab_link": true
    },
    "kernelspec": {
      "name": "python3",
      "display_name": "Python 3"
    },
    "language_info": {
      "name": "python"
    }
  },
  "cells": [
    {
      "cell_type": "markdown",
      "metadata": {
        "id": "view-in-github",
        "colab_type": "text"
      },
      "source": [
        "<a href=\"https://colab.research.google.com/github/TalesV/Exercicio-1-Analise-de-Rede/blob/main/week_03_Exercise.ipynb\" target=\"_parent\"><img src=\"https://colab.research.google.com/assets/colab-badge.svg\" alt=\"Open In Colab\"/></a>"
      ]
    },
    {
      "cell_type": "markdown",
      "metadata": {
        "id": "YGoGFx3lWBbJ"
      },
      "source": [
        "Student Identification\n",
        "\n",
        "- Name Student: **Tales Vinícius de Medeiros Alves** \n"
      ]
    },
    {
      "cell_type": "markdown",
      "metadata": {
        "id": "0vUTEVI2SSAQ"
      },
      "source": [
        "# Exercise Q&A (1,00 point for grade in Unit 01)"
      ]
    },
    {
      "cell_type": "markdown",
      "metadata": {
        "id": "tG_xFopi_wpj"
      },
      "source": [
        "## Question 01"
      ]
    },
    {
      "cell_type": "markdown",
      "metadata": {
        "id": "rtVDKKTDGCND"
      },
      "source": [
        "Consider a network with *N* nodes. Given a single link, what is the maximum number of nodes that link can connect? Given a single node, what is the maximum number of links that can connect to that node?"
      ]
    },
    {
      "cell_type": "markdown",
      "metadata": {
        "id": "3n2EjOMmHMuI"
      },
      "source": [
        "Answer:Com apenas um link o máximo número de nós que se podem conectar é 2, já que um link é a conexão entre um par de nós. Com apenas um nó não existem links que se conectem a ele, já que n=1 e o máximo número de links é n*(n-1)/2."
      ]
    },
    {
      "cell_type": "markdown",
      "metadata": {
        "id": "uQPRLZUXHRFc"
      },
      "source": [
        "## Question 02"
      ]
    },
    {
      "cell_type": "markdown",
      "metadata": {
        "id": "FnKLHki-Hay_"
      },
      "source": [
        "\n",
        "<center><img width=\"600\" src=\"https://drive.google.com/uc?export=view&id=1Y42-c3Pq1XoszEEvYsZFdr3GccAqp7l_\"></center>\n",
        "<center><b>Figure 1</b>: Map of New York in 1880. From Report on the Social Statistics of Cities, Compiled by George E. Waring, Jr., U.S. Census Office, 1886. Image courtesy of University of Texas Libraries. <br></center>\n",
        "\n",
        "\n",
        "Consider the road map in Figure 1. The grid-like structure of this network means that most nodes have the same degree. What is the most common degree for nodes in this network?\n",
        "\n"
      ]
    },
    {
      "cell_type": "markdown",
      "metadata": {
        "id": "DtBZnm2OHgaI"
      },
      "source": [
        "Answer:O nó mais comum vai ter conexões na direção Norte, Sul, Leste, Oeste portanto o grau mais comum é de k=4."
      ]
    },
    {
      "cell_type": "markdown",
      "metadata": {
        "id": "pyOgImYmJsh3"
      },
      "source": [
        "## Question 03"
      ]
    },
    {
      "cell_type": "markdown",
      "metadata": {
        "id": "17qGjrMHJvZ7"
      },
      "source": [
        "Consider the road map in Figure 1. Manhattan has a lot of one-way streets. This implies that a good network model of traffic flow would probably have directed links. Consider a subgraph of this network with grid-like connectivity and all one-way streets (i.e. each node is a four-way intersection of two one-way streets). What is the most common in-degree of nodes in this subgraph? What is the most common out-degree?"
      ]
    },
    {
      "cell_type": "markdown",
      "metadata": {
        "id": "71j_C-55KIVC"
      },
      "source": [
        "Answer:O grau mais comum de nós de entrada e de saída é 2"
      ]
    },
    {
      "cell_type": "markdown",
      "metadata": {
        "id": "6ajWuuasKLQ_"
      },
      "source": [
        "## Question 04"
      ]
    },
    {
      "cell_type": "markdown",
      "metadata": {
        "id": "ylQ51DMWKZxC"
      },
      "source": [
        "What network quantity can we use to represent the volume of traffic between each pair of adjacent intersections in the Manhattan road map (Figure 1)?"
      ]
    },
    {
      "cell_type": "markdown",
      "metadata": {
        "id": "oE9sJ1mWKcF0"
      },
      "source": [
        "Answer:Pode usar uma rede ponderada onde cada carro possuíria um peso, assim intersecções mais movimentadas possuiriam um peso maior do que as menos movimentadas."
      ]
    },
    {
      "cell_type": "markdown",
      "metadata": {
        "id": "udxnPkItKfX3"
      },
      "source": [
        "## Question 5"
      ]
    },
    {
      "cell_type": "markdown",
      "metadata": {
        "id": "fj7f0HL7KtOy"
      },
      "source": [
        "Consider a directed network of N nodes. Now consider the total in-degree (i.e. the sum of the in-degree over all nodes in the network). Compare this to the analogous total out-degree. Which of the following must hold true for any such network?\n",
        "\n",
        "1. Total in-degree must be less than total out-degree\n",
        "2. Total in-degree must be greater than total out-degree\n",
        "3. Total in-degree must be equal to total out-degree\n",
        "4. None of these hold true in all instances"
      ]
    },
    {
      "cell_type": "markdown",
      "metadata": {
        "id": "4P5ThuVNK3Ug"
      },
      "source": [
        "Answer: 3. Para todo grau de saída deve ter um grau de entrada no outro nó do link e vice-versa, sendo assim  o grau de entrada vai ser igual ao grau de saída em uma rede"
      ]
    },
    {
      "cell_type": "markdown",
      "metadata": {
        "id": "QPVskC76LUtF"
      },
      "source": [
        "## Question 6"
      ]
    },
    {
      "cell_type": "markdown",
      "metadata": {
        "id": "A1TqNt5nLZkU"
      },
      "source": [
        "Consider a Twitter retweet network, where users are nodes and we want to show how many times a given user has retweeted another user. What link type best captures this relation?\n",
        "1.   Undirected, unweighted\n",
        "2.   Undirected, weighted\n",
        "3.   Directed, unweighted\n",
        "4.   Directed, weighted"
      ]
    },
    {
      "cell_type": "markdown",
      "metadata": {
        "id": "yJNqiQJ5LkFy"
      },
      "source": [
        "Answer:4. Direcionado por que é uma relação de via única e ponderado para capturar a quantidade de vezes que o usuário retweetou"
      ]
    },
    {
      "cell_type": "markdown",
      "metadata": {
        "id": "ZT5mLS7-Lsb2"
      },
      "source": [
        "## Question 7"
      ]
    },
    {
      "cell_type": "markdown",
      "metadata": {
        "id": "ofRy-TURMLix"
      },
      "source": [
        "Consider a hashtag co-occurrence graph from Twitter. In this network, hashtags are the nodes, and a link between two hashtags indicates how often those two hashtags appear in tweets together. What link type would best capture this relation?\n",
        "1.   Undirected, unweighted\n",
        "2.   Undirected, weighted\n",
        "3.   Directed, unweighted\n",
        "4.   Directed, weighted"
      ]
    },
    {
      "cell_type": "markdown",
      "metadata": {
        "id": "8H7AiKavMQsT"
      },
      "source": [
        "Answer:2. A relação é mútua entre as hashtags portanto não é direcionada e é ponderada para destacar o quão comum é a ocorrência."
      ]
    },
    {
      "cell_type": "markdown",
      "metadata": {
        "id": "4-bIhQwpMVs3"
      },
      "source": [
        "## Question 8"
      ]
    },
    {
      "cell_type": "markdown",
      "metadata": {
        "id": "9SVLykJ6M5lM"
      },
      "source": [
        "Consider a network created from characters in a story or play. The nodes are people, and a link exists between two nodes if those characters ever engage in dialogue. Which type of edge could represent this relation? Justify your answer.\n",
        "1.   Undirected, unweighted\n",
        "2.   Undirected, weighted\n",
        "3.   Directed, unweighted\n",
        "4.   Directed, weighted"
      ]
    },
    {
      "cell_type": "markdown",
      "metadata": {
        "id": "FnvkcRD-M8eq"
      },
      "source": [
        "Answer:1. Em um diálogo ambos os nós tanto recebem como enviam um discurso ,portanto não é direcionado, e também não é ponderado já que o discurso não está sendo comparado a outro."
      ]
    },
    {
      "cell_type": "markdown",
      "metadata": {
        "id": "S4Ga_yyYNBBo"
      },
      "source": [
        "## Question 9"
      ]
    },
    {
      "cell_type": "markdown",
      "metadata": {
        "id": "1_z4ApdLNa6a"
      },
      "source": [
        "Suppose we want to make a more complex version of a dialog network that captures how much each character speaks and to whom. What type of link would best represent this relation?\n",
        "1.   Undirected, unweighted\n",
        "2.   Undirected, weighted\n",
        "3.   Directed, unweighted\n",
        "4.   Directed, weighted"
      ]
    },
    {
      "cell_type": "markdown",
      "metadata": {
        "id": "urjFC0KTNefy"
      },
      "source": [
        "Answer:4. Direcionado já que em um diálogo um nó pode falar mais do que outro e ponderado devido a quantidade de vezes que o nó engajou em diálogos com os outros."
      ]
    },
    {
      "cell_type": "markdown",
      "metadata": {
        "id": "hct-5tQwNg5_"
      },
      "source": [
        "## Question 10"
      ]
    },
    {
      "cell_type": "markdown",
      "metadata": {
        "id": "soJKH_N1Nnj3"
      },
      "source": [
        "Imagine that your social network has a subnetwork where you and 24 of your friends (25 people total) are all friends with each other. What is such a subnetwork called? And how many links are contained in the subnetwork?"
      ]
    },
    {
      "cell_type": "markdown",
      "metadata": {
        "id": "e8GcJrj1Npay"
      },
      "source": [
        "Answer:Uma rede completa(completed network). 300 links [25*(25-1)/2]"
      ]
    },
    {
      "cell_type": "markdown",
      "metadata": {
        "id": "--K9oj5YNrjz"
      },
      "source": [
        "## Question 11"
      ]
    },
    {
      "cell_type": "markdown",
      "metadata": {
        "id": "DRFut7ovNz41"
      },
      "source": [
        "Consider an undirected network with N nodes. What is the maximum number of links this network can have?"
      ]
    },
    {
      "cell_type": "markdown",
      "metadata": {
        "id": "60iToMENN61m"
      },
      "source": [
        "Answer: N*(N-1)/2"
      ]
    },
    {
      "cell_type": "markdown",
      "metadata": {
        "id": "cER1jb6SN8NF"
      },
      "source": [
        "## Question 12"
      ]
    },
    {
      "cell_type": "markdown",
      "metadata": {
        "id": "PyyEb1GeOBK9"
      },
      "source": [
        "Consider a bipartite network of N nodes, $N_1$ nodes of type 1 and $N_2$ nodes of type 2 (so that $N_1 + N_2 = N$). What is the maximum number of links in this network?"
      ]
    },
    {
      "cell_type": "markdown",
      "metadata": {
        "id": "6AoiES-AOJdB"
      },
      "source": [
        "Answer: N1*N2"
      ]
    },
    {
      "cell_type": "markdown",
      "metadata": {
        "id": "RN4CfOSqOK_1"
      },
      "source": [
        "## Question 13"
      ]
    },
    {
      "cell_type": "markdown",
      "metadata": {
        "id": "9SGJKgblOO9g"
      },
      "source": [
        "Given a complete network A with N nodes, and a bipartite network B also with N nodes, which of the following holds true for any $N > 2$:\n",
        "1.   Network A has more links than network B\n",
        "2.   Network A has the same number of links as network B\n",
        "3.   Network A has fewer links than network B\n",
        "4.   None of these hold true for all such $N > 2$"
      ]
    },
    {
      "cell_type": "markdown",
      "metadata": {
        "id": "cwF6C1uLOiWr"
      },
      "source": [
        "Answer:1. Network A has more links than network B"
      ]
    },
    {
      "cell_type": "markdown",
      "metadata": {
        "id": "SKKotfslOluz"
      },
      "source": [
        "## Question 14\n",
        "\n"
      ]
    },
    {
      "cell_type": "markdown",
      "metadata": {
        "id": "GMh5WvjiPwzv"
      },
      "source": [
        "Consider this adjacency matrix:\n",
        "\n",
        "<center><img width=\"300\" src=\"https://drive.google.com/uc?export=view&id=1e4ANqX_kJCPhnVizvbK-ToBJgrZJpVde\"></center>\n",
        "\n",
        "An entry in the ith row and jth column indicates the weight of the link from node i to node j. For instance, the entry in the second row and third column is 2, meaning the weight of the link from node B to node C is 2. What kind of network does this matrix represent?\n",
        "1.   Undirected, unweighted\n",
        "2.   Undirected, weighted\n",
        "3.   Directed, unweighted\n",
        "4.   Directed, weighted\n"
      ]
    },
    {
      "cell_type": "markdown",
      "metadata": {
        "id": "UD5mRmSpRelN"
      },
      "source": [
        "Answer:4. Possui tanto direção como peso cada link"
      ]
    },
    {
      "cell_type": "markdown",
      "metadata": {
        "id": "N92A04bZP6Uu"
      },
      "source": [
        "## Question 15"
      ]
    },
    {
      "cell_type": "markdown",
      "metadata": {
        "id": "MqTaMtfDRKY1"
      },
      "source": [
        "We have seen that Facebook’s network is incredibly sparse. Assume it has approximately 1 billion users, each with 1000 friends on average.\n",
        "\n",
        "1. Suppose Facebook releases its annual report and it shows that while the number of users in the network has stayed the same, the average number of friends per user has increased. Would this imply that the network density increased, decreased, or stayed the same?\n",
        "2. Suppose instead that both the number of users and the average number of friends per user doubled. Would this imply the network density increased, decreased, or stayed the same?\n",
        "\n"
      ]
    },
    {
      "cell_type": "markdown",
      "metadata": {
        "id": "tc14eV8jRXsu"
      },
      "source": [
        "Answer:\n",
        "Iria implicar em um aumento de densidade dos links. Supondo que ambos dobrassem a densidade iria diminuir já que a network o número máximos de links iria crescer ao quadrado e a quantidade de links simplesmente linear."
      ]
    },
    {
      "cell_type": "markdown",
      "metadata": {
        "id": "hzp00QnjRgxU"
      },
      "source": [
        "## Question 16"
      ]
    },
    {
      "cell_type": "markdown",
      "metadata": {
        "id": "9O0ElA4FR1sR"
      },
      "source": [
        "Netflix keeps data on customer preferences using a big bipartite network connecting users to titles. Suppose that from 2013 to 2014 Netflix’s library has remained the same size, while the number of users has increased. Further suppose that the average user’s degree in this network has remained constant. Has the density of this network increased, decreased, or stayed the same?"
      ]
    },
    {
      "cell_type": "markdown",
      "metadata": {
        "id": "UdewP6VvR6VD"
      },
      "source": [
        "Answer: A densidade iria aumentar. Nesse N2 é constante e N1 aumentou ,logo N1*N2 também aumentaria.\n"
      ]
    },
    {
      "cell_type": "markdown",
      "metadata": {
        "id": "3xO32cYISYkQ"
      },
      "source": [
        "# Exercise - Hands On (1,00 point for grade in Unit 01)"
      ]
    },
    {
      "cell_type": "markdown",
      "metadata": {
        "id": "-I9SonWrTIH-"
      },
      "source": [
        "Implementing all hands on using both [NetworkX](https://networkx.org/) and [Graph-Tool](https://graph-tool.skewed.de/) frameworks."
      ]
    },
    {
      "cell_type": "markdown",
      "metadata": {
        "id": "7if-CnFwSfPc"
      },
      "source": [
        "## Hands On 01"
      ]
    },
    {
      "cell_type": "markdown",
      "metadata": {
        "id": "SuO9vOYd9gFV"
      },
      "source": [
        "\n",
        "Often in the context of trees, a node with degree 1 is called a *leaf*. Write a function named `get_leaves` that takes a graph as an argument, loops through the nodes, and returns a list of nodes with degree 1."
      ]
    },
    {
      "cell_type": "code",
      "metadata": {
        "id": "5c61HZqVRN_y"
      },
      "source": [
        "#Instalando graph-tool\n",
        "!echo \"deb http://downloads.skewed.de/apt bionic main\" >> /etc/apt/sources.list\n",
        "!apt-get update\n",
        "!apt-get install python3-graph-tool "
      ],
      "execution_count": null,
      "outputs": []
    },
    {
      "cell_type": "code",
      "metadata": {
        "id": "dNFXedGGksAg"
      },
      "source": [
        "#Todos os imports\n",
        "import numpy as np\n",
        "import networkx as nx\n",
        "from graph_tool.all import *"
      ],
      "execution_count": 257,
      "outputs": []
    },
    {
      "cell_type": "code",
      "metadata": {
        "scrolled": true,
        "id": "FlGKqf0MmgnB"
      },
      "source": [
        "\n",
        "# get_leaves para o networkx\n",
        "def get_leaves(G):\n",
        "  leaf=list()\n",
        "  for i in range(0, len(G.nodes)):\n",
        "    if G.degree[list(G.nodes)[i]] == 1:\n",
        "      leaf.append(list(G.nodes)[i])\n",
        "  return leaf\n"
      ],
      "execution_count": null,
      "outputs": []
    },
    {
      "cell_type": "code",
      "metadata": {
        "scrolled": true,
        "id": "mVBLr5_xmgnB"
      },
      "source": [
        "# this block of code is only for networkx adapt it for graph-tool\n",
        "\n",
        "G = nx.Graph()\n",
        "G.add_edges_from([\n",
        "        ('a', 'b'),\n",
        "        ('a', 'd'),\n",
        "        ('c', 'd'),\n",
        "    ])\n",
        "assert set(get_leaves(G)) == {'c', 'b'}"
      ],
      "execution_count": null,
      "outputs": []
    },
    {
      "cell_type": "code",
      "metadata": {
        "id": "LNbpw9tAk7sP"
      },
      "source": [
        "# get_leaves para o Graph-tools\n",
        "def get_leaves(G):\n",
        "  leaf=list()\n",
        "  for i in range(0, len(G.get_vertices())):\n",
        "    if G.vertex(i).out_degree() == 1:\n",
        "      leaf.append(i)\n",
        "  return leaf #retorna a posição dos nodos com grau 1"
      ],
      "execution_count": null,
      "outputs": []
    },
    {
      "cell_type": "code",
      "metadata": {
        "id": "Zn7co8-fT_Od"
      },
      "source": [
        "\n",
        "G = Graph(directed=False)\n",
        "Vlist= G.add_vertex(4)\n",
        "edges=[(G.vertex(0), G.vertex(1)), (G.vertex(0), G.vertex(3)), (G.vertex(2), G.vertex(3))]\n",
        "G.add_edge_list(edges)\n",
        "assert set(get_leaves(G)) == {2, 1}\n"
      ],
      "execution_count": null,
      "outputs": []
    },
    {
      "cell_type": "markdown",
      "metadata": {
        "id": "TcYdyCnEmgnD"
      },
      "source": [
        "## Hands On 02"
      ]
    },
    {
      "cell_type": "markdown",
      "metadata": {
        "id": "MsE6DTbI9m4t"
      },
      "source": [
        "\n",
        "Write a function max_degree that takes a graph as its argument, and returns a 2-tuple with the name and degree of the node with highest degree."
      ]
    },
    {
      "cell_type": "code",
      "metadata": {
        "scrolled": false,
        "id": "DLufczZQmgnD"
      },
      "source": [
        "def max_degree(G):\n",
        "  inteiros=list()\n",
        "  aux=list(SG.degree())\n",
        "  for i in range(0, len(SG.degree())):\n",
        "    inteiros.append(aux[i][-1])\n",
        "  Pessoa=list(SG.nodes())[inteiros.index(max(inteiros))]\n",
        "  return tuple((Pessoa, max(inteiros)))"
      ],
      "execution_count": 355,
      "outputs": []
    },
    {
      "cell_type": "code",
      "metadata": {
        "scrolled": false,
        "id": "aEQapPYNmgnD"
      },
      "source": [
        "# this block of code is only for networkx adapt it for graph-tool\n",
        "SG = nx.read_adjlist('friends.adjlist')\n",
        "assert max_degree(SG) == ('Claire', 4)"
      ],
      "execution_count": 356,
      "outputs": []
    },
    {
      "cell_type": "markdown",
      "metadata": {
        "id": "MCDbNldnmgnD"
      },
      "source": [
        "## Hands on 03"
      ]
    },
    {
      "cell_type": "markdown",
      "metadata": {
        "id": "RWup3uDm9n5I"
      },
      "source": [
        "\n",
        "Write a function `mutual_friends` that takes a graph and two nodes as arguments, and returns a list (or set) of nodes that are linked to both given nodes. For example, in the graph `SG` drawn above,\n",
        "\n",
        "    mutual_friends(SG, 'Alice', 'Claire') == ['Frank']\n",
        "\n",
        "an empty list or set should be returned in the case where two nodes have no mutual friends, e.g. George and Bob in `SG` drawn above."
      ]
    },
    {
      "cell_type": "code",
      "metadata": {
        "scrolled": false,
        "id": "hpnX9YeKmgnD"
      },
      "source": [
        "def mutual_friends(G, node_1, node_2):\n",
        "  amigos=list()\n",
        "  lista_amigos=list()\n",
        "  amigos_mutuos=list()\n",
        "  for i in range(0, len(SG.nodes())):\n",
        "    for j in range(0, len(SG.edges())):\n",
        "      if list(SG.nodes())[i] in list(SG.edges())[j]:\n",
        "        if list(SG.nodes())[i] in list(SG.edges())[j][0]:\n",
        "          amigos.append(list(SG.edges())[j][1])\n",
        "        else:\n",
        "          amigos.append(list(SG.edges())[j][0])\n",
        "    lista_amigos.append(amigos)\n",
        "    amigos=list()\n",
        "  pos1=list(SG.nodes()).index(node_1)\n",
        "  pos2=list(SG.nodes()).index(node_2)\n",
        "  for i in range(0, len(lista_amigos[pos1])):\n",
        "    for j in range(0, len(lista_amigos[pos2])):\n",
        "      if lista_amigos[pos1][i]==lista_amigos[pos2][j]:\n",
        "        amigos_mutuos.append(lista_amigos[pos1][i])\n",
        "  return amigos_mutuos"
      ],
      "execution_count": 451,
      "outputs": []
    },
    {
      "cell_type": "code",
      "metadata": {
        "scrolled": true,
        "id": "B2n0vCRYmgnE"
      },
      "source": [
        "# this block of code is only for networkx adapt it for graph-tool\n",
        "SG = nx.read_adjlist('friends.adjlist')\n",
        "assert mutual_friends(SG, 'Alice', 'Claire') == ['Frank']\n",
        "assert mutual_friends(SG, 'George', 'Bob') == []\n",
        "assert sorted(mutual_friends(SG, 'Claire', 'George')) == ['Dennis', 'Frank']"
      ],
      "execution_count": 452,
      "outputs": []
    }
  ]
}